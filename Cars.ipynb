{
 "cells": [
  {
   "cell_type": "markdown",
   "id": "1b00be8c",
   "metadata": {},
   "source": [
    "# Correlation Is Simple with Seaborn And Pandas\n",
    "\n",
    "### By Abishek James"
   ]
  },
  {
   "cell_type": "code",
   "execution_count": 7,
   "id": "73df800d",
   "metadata": {},
   "outputs": [],
   "source": [
    "import warnings\n",
    "import pandas as pd \n",
    "import numpy as np\n",
    "import seaborn as sns \n",
    "import matplotlib.pyplot as plt\n",
    "sns.set(color_codes=True)\n",
    "warnings.filterwarnings(\"ignore\")"
   ]
  },
  {
   "cell_type": "code",
   "execution_count": 2,
   "id": "8d40a5a9",
   "metadata": {},
   "outputs": [
    {
     "data": {
      "text/html": [
       "<div>\n",
       "<style scoped>\n",
       "    .dataframe tbody tr th:only-of-type {\n",
       "        vertical-align: middle;\n",
       "    }\n",
       "\n",
       "    .dataframe tbody tr th {\n",
       "        vertical-align: top;\n",
       "    }\n",
       "\n",
       "    .dataframe thead th {\n",
       "        text-align: right;\n",
       "    }\n",
       "</style>\n",
       "<table border=\"1\" class=\"dataframe\">\n",
       "  <thead>\n",
       "    <tr style=\"text-align: right;\">\n",
       "      <th></th>\n",
       "      <th>Name</th>\n",
       "      <th>Type</th>\n",
       "      <th>AWD</th>\n",
       "      <th>RWD</th>\n",
       "      <th>Retail Price</th>\n",
       "      <th>Dealer Cost</th>\n",
       "      <th>Engine Size (l)</th>\n",
       "      <th>Cyl</th>\n",
       "      <th>Horsepower(HP)</th>\n",
       "      <th>City Miles Per Gallon</th>\n",
       "      <th>Highway Miles Per Gallon</th>\n",
       "      <th>Weight</th>\n",
       "      <th>Wheel Base</th>\n",
       "      <th>Len</th>\n",
       "      <th>Width</th>\n",
       "    </tr>\n",
       "  </thead>\n",
       "  <tbody>\n",
       "    <tr>\n",
       "      <th>0</th>\n",
       "      <td>Acura 3.5 RL 4dr</td>\n",
       "      <td>Sedan</td>\n",
       "      <td>0</td>\n",
       "      <td>0</td>\n",
       "      <td>43755</td>\n",
       "      <td>39014</td>\n",
       "      <td>3.5</td>\n",
       "      <td>6</td>\n",
       "      <td>225</td>\n",
       "      <td>18</td>\n",
       "      <td>24</td>\n",
       "      <td>3880</td>\n",
       "      <td>115</td>\n",
       "      <td>197</td>\n",
       "      <td>72</td>\n",
       "    </tr>\n",
       "    <tr>\n",
       "      <th>1</th>\n",
       "      <td>Acura 3.5 RL w/Navigation 4dr</td>\n",
       "      <td>Sedan</td>\n",
       "      <td>0</td>\n",
       "      <td>0</td>\n",
       "      <td>46100</td>\n",
       "      <td>41100</td>\n",
       "      <td>3.5</td>\n",
       "      <td>6</td>\n",
       "      <td>225</td>\n",
       "      <td>18</td>\n",
       "      <td>24</td>\n",
       "      <td>3893</td>\n",
       "      <td>115</td>\n",
       "      <td>197</td>\n",
       "      <td>72</td>\n",
       "    </tr>\n",
       "    <tr>\n",
       "      <th>2</th>\n",
       "      <td>Acura MDX</td>\n",
       "      <td>SUV</td>\n",
       "      <td>1</td>\n",
       "      <td>0</td>\n",
       "      <td>36945</td>\n",
       "      <td>33337</td>\n",
       "      <td>3.5</td>\n",
       "      <td>6</td>\n",
       "      <td>265</td>\n",
       "      <td>17</td>\n",
       "      <td>23</td>\n",
       "      <td>4451</td>\n",
       "      <td>106</td>\n",
       "      <td>189</td>\n",
       "      <td>77</td>\n",
       "    </tr>\n",
       "    <tr>\n",
       "      <th>3</th>\n",
       "      <td>Acura NSX coupe 2dr manual S</td>\n",
       "      <td>Sports Car</td>\n",
       "      <td>0</td>\n",
       "      <td>1</td>\n",
       "      <td>89765</td>\n",
       "      <td>79978</td>\n",
       "      <td>3.2</td>\n",
       "      <td>6</td>\n",
       "      <td>290</td>\n",
       "      <td>17</td>\n",
       "      <td>24</td>\n",
       "      <td>3153</td>\n",
       "      <td>100</td>\n",
       "      <td>174</td>\n",
       "      <td>71</td>\n",
       "    </tr>\n",
       "    <tr>\n",
       "      <th>4</th>\n",
       "      <td>Acura RSX Type S 2dr</td>\n",
       "      <td>Sedan</td>\n",
       "      <td>0</td>\n",
       "      <td>0</td>\n",
       "      <td>23820</td>\n",
       "      <td>21761</td>\n",
       "      <td>2.0</td>\n",
       "      <td>4</td>\n",
       "      <td>200</td>\n",
       "      <td>24</td>\n",
       "      <td>31</td>\n",
       "      <td>2778</td>\n",
       "      <td>101</td>\n",
       "      <td>172</td>\n",
       "      <td>68</td>\n",
       "    </tr>\n",
       "  </tbody>\n",
       "</table>\n",
       "</div>"
      ],
      "text/plain": [
       "                            Name        Type  AWD  RWD  Retail Price  \\\n",
       "0               Acura 3.5 RL 4dr       Sedan    0    0         43755   \n",
       "1  Acura 3.5 RL w/Navigation 4dr       Sedan    0    0         46100   \n",
       "2                      Acura MDX         SUV    1    0         36945   \n",
       "3   Acura NSX coupe 2dr manual S  Sports Car    0    1         89765   \n",
       "4           Acura RSX Type S 2dr       Sedan    0    0         23820   \n",
       "\n",
       "   Dealer Cost  Engine Size (l)  Cyl  Horsepower(HP)  City Miles Per Gallon  \\\n",
       "0        39014              3.5    6             225                     18   \n",
       "1        41100              3.5    6             225                     18   \n",
       "2        33337              3.5    6             265                     17   \n",
       "3        79978              3.2    6             290                     17   \n",
       "4        21761              2.0    4             200                     24   \n",
       "\n",
       "   Highway Miles Per Gallon  Weight  Wheel Base  Len  Width  \n",
       "0                        24    3880         115  197     72  \n",
       "1                        24    3893         115  197     72  \n",
       "2                        23    4451         106  189     77  \n",
       "3                        24    3153         100  174     71  \n",
       "4                        31    2778         101  172     68  "
      ]
     },
     "execution_count": 2,
     "metadata": {},
     "output_type": "execute_result"
    }
   ],
   "source": [
    "df = pd.read_csv(\"CARS.csv\")\n",
    "df.head()"
   ]
  },
  {
   "cell_type": "code",
   "execution_count": 9,
   "id": "1ede7f03",
   "metadata": {},
   "outputs": [
    {
     "name": "stdout",
     "output_type": "stream",
     "text": [
      "<class 'pandas.core.frame.DataFrame'>\n",
      "RangeIndex: 387 entries, 0 to 386\n",
      "Data columns (total 7 columns):\n",
      " #   Column                    Non-Null Count  Dtype \n",
      "---  ------                    --------------  ----- \n",
      " 0   Name                      387 non-null    object\n",
      " 1   Type                      387 non-null    object\n",
      " 2   Retail Price              387 non-null    int64 \n",
      " 3   Dealer Cost               387 non-null    int64 \n",
      " 4   Horsepower(HP)            387 non-null    int64 \n",
      " 5   City Miles Per Gallon     387 non-null    int64 \n",
      " 6   Highway Miles Per Gallon  387 non-null    int64 \n",
      "dtypes: int64(5), object(2)\n",
      "memory usage: 21.3+ KB\n"
     ]
    }
   ],
   "source": [
    "df.info()"
   ]
  },
  {
   "cell_type": "code",
   "execution_count": 10,
   "id": "44542795",
   "metadata": {},
   "outputs": [
    {
     "data": {
      "text/html": [
       "<div>\n",
       "<style scoped>\n",
       "    .dataframe tbody tr th:only-of-type {\n",
       "        vertical-align: middle;\n",
       "    }\n",
       "\n",
       "    .dataframe tbody tr th {\n",
       "        vertical-align: top;\n",
       "    }\n",
       "\n",
       "    .dataframe thead th {\n",
       "        text-align: right;\n",
       "    }\n",
       "</style>\n",
       "<table border=\"1\" class=\"dataframe\">\n",
       "  <thead>\n",
       "    <tr style=\"text-align: right;\">\n",
       "      <th></th>\n",
       "      <th>Retail Price</th>\n",
       "      <th>Dealer Cost</th>\n",
       "      <th>Horsepower(HP)</th>\n",
       "      <th>City Miles Per Gallon</th>\n",
       "      <th>Highway Miles Per Gallon</th>\n",
       "    </tr>\n",
       "  </thead>\n",
       "  <tbody>\n",
       "    <tr>\n",
       "      <th>count</th>\n",
       "      <td>387.000000</td>\n",
       "      <td>387.000000</td>\n",
       "      <td>387.000000</td>\n",
       "      <td>387.000000</td>\n",
       "      <td>387.000000</td>\n",
       "    </tr>\n",
       "    <tr>\n",
       "      <th>mean</th>\n",
       "      <td>33231.180879</td>\n",
       "      <td>30440.653747</td>\n",
       "      <td>214.444444</td>\n",
       "      <td>22.855297</td>\n",
       "      <td>24.354005</td>\n",
       "    </tr>\n",
       "    <tr>\n",
       "      <th>std</th>\n",
       "      <td>19724.634576</td>\n",
       "      <td>17901.179282</td>\n",
       "      <td>70.262822</td>\n",
       "      <td>50.076312</td>\n",
       "      <td>57.578658</td>\n",
       "    </tr>\n",
       "    <tr>\n",
       "      <th>min</th>\n",
       "      <td>10280.000000</td>\n",
       "      <td>9875.000000</td>\n",
       "      <td>73.000000</td>\n",
       "      <td>10.000000</td>\n",
       "      <td>-1100.000000</td>\n",
       "    </tr>\n",
       "    <tr>\n",
       "      <th>25%</th>\n",
       "      <td>20997.000000</td>\n",
       "      <td>19575.000000</td>\n",
       "      <td>165.000000</td>\n",
       "      <td>18.000000</td>\n",
       "      <td>24.000000</td>\n",
       "    </tr>\n",
       "    <tr>\n",
       "      <th>50%</th>\n",
       "      <td>28495.000000</td>\n",
       "      <td>26155.000000</td>\n",
       "      <td>210.000000</td>\n",
       "      <td>19.000000</td>\n",
       "      <td>27.000000</td>\n",
       "    </tr>\n",
       "    <tr>\n",
       "      <th>75%</th>\n",
       "      <td>39552.500000</td>\n",
       "      <td>36124.000000</td>\n",
       "      <td>250.000000</td>\n",
       "      <td>22.000000</td>\n",
       "      <td>30.000000</td>\n",
       "    </tr>\n",
       "    <tr>\n",
       "      <th>max</th>\n",
       "      <td>192465.000000</td>\n",
       "      <td>173560.000000</td>\n",
       "      <td>493.000000</td>\n",
       "      <td>1000.000000</td>\n",
       "      <td>66.000000</td>\n",
       "    </tr>\n",
       "  </tbody>\n",
       "</table>\n",
       "</div>"
      ],
      "text/plain": [
       "        Retail Price    Dealer Cost  Horsepower(HP)  City Miles Per Gallon  \\\n",
       "count     387.000000     387.000000      387.000000             387.000000   \n",
       "mean    33231.180879   30440.653747      214.444444              22.855297   \n",
       "std     19724.634576   17901.179282       70.262822              50.076312   \n",
       "min     10280.000000    9875.000000       73.000000              10.000000   \n",
       "25%     20997.000000   19575.000000      165.000000              18.000000   \n",
       "50%     28495.000000   26155.000000      210.000000              19.000000   \n",
       "75%     39552.500000   36124.000000      250.000000              22.000000   \n",
       "max    192465.000000  173560.000000      493.000000            1000.000000   \n",
       "\n",
       "       Highway Miles Per Gallon  \n",
       "count                387.000000  \n",
       "mean                  24.354005  \n",
       "std                   57.578658  \n",
       "min                -1100.000000  \n",
       "25%                   24.000000  \n",
       "50%                   27.000000  \n",
       "75%                   30.000000  \n",
       "max                   66.000000  "
      ]
     },
     "execution_count": 10,
     "metadata": {},
     "output_type": "execute_result"
    }
   ],
   "source": [
    "df.describe()"
   ]
  },
  {
   "cell_type": "code",
   "execution_count": 11,
   "id": "c3639a34",
   "metadata": {},
   "outputs": [
    {
     "data": {
      "text/plain": [
       "Name                        object\n",
       "Type                        object\n",
       "Retail Price                 int64\n",
       "Dealer Cost                  int64\n",
       "Horsepower(HP)               int64\n",
       "City Miles Per Gallon        int64\n",
       "Highway Miles Per Gallon     int64\n",
       "dtype: object"
      ]
     },
     "execution_count": 11,
     "metadata": {},
     "output_type": "execute_result"
    }
   ],
   "source": [
    "df.dtypes"
   ]
  },
  {
   "cell_type": "code",
   "execution_count": 13,
   "id": "640f7755",
   "metadata": {},
   "outputs": [
    {
     "data": {
      "text/plain": [
       "Index(['Name', 'Type', 'Retail Price', 'Dealer Cost', 'Horsepower(HP)',\n",
       "       'City Miles Per Gallon', 'Highway Miles Per Gallon'],\n",
       "      dtype='object')"
      ]
     },
     "execution_count": 13,
     "metadata": {},
     "output_type": "execute_result"
    }
   ],
   "source": [
    "df.columns"
   ]
  },
  {
   "cell_type": "code",
   "execution_count": 12,
   "id": "0778f215",
   "metadata": {},
   "outputs": [
    {
     "name": "stdout",
     "output_type": "stream",
     "text": [
      "Number of rows: 387\n",
      "Number of columns: 7\n"
     ]
    }
   ],
   "source": [
    "print(\"Number of rows:\", df.shape[0])\n",
    "print(\"Number of columns:\",df.shape[1])"
   ]
  },
  {
   "cell_type": "code",
   "execution_count": 3,
   "id": "56dc3074",
   "metadata": {},
   "outputs": [
    {
     "data": {
      "text/html": [
       "<div>\n",
       "<style scoped>\n",
       "    .dataframe tbody tr th:only-of-type {\n",
       "        vertical-align: middle;\n",
       "    }\n",
       "\n",
       "    .dataframe tbody tr th {\n",
       "        vertical-align: top;\n",
       "    }\n",
       "\n",
       "    .dataframe thead th {\n",
       "        text-align: right;\n",
       "    }\n",
       "</style>\n",
       "<table border=\"1\" class=\"dataframe\">\n",
       "  <thead>\n",
       "    <tr style=\"text-align: right;\">\n",
       "      <th></th>\n",
       "      <th>Name</th>\n",
       "      <th>Type</th>\n",
       "      <th>Retail Price</th>\n",
       "      <th>Dealer Cost</th>\n",
       "      <th>Horsepower(HP)</th>\n",
       "      <th>City Miles Per Gallon</th>\n",
       "      <th>Highway Miles Per Gallon</th>\n",
       "    </tr>\n",
       "  </thead>\n",
       "  <tbody>\n",
       "    <tr>\n",
       "      <th>0</th>\n",
       "      <td>Acura 3.5 RL 4dr</td>\n",
       "      <td>Sedan</td>\n",
       "      <td>43755</td>\n",
       "      <td>39014</td>\n",
       "      <td>225</td>\n",
       "      <td>18</td>\n",
       "      <td>24</td>\n",
       "    </tr>\n",
       "    <tr>\n",
       "      <th>1</th>\n",
       "      <td>Acura 3.5 RL w/Navigation 4dr</td>\n",
       "      <td>Sedan</td>\n",
       "      <td>46100</td>\n",
       "      <td>41100</td>\n",
       "      <td>225</td>\n",
       "      <td>18</td>\n",
       "      <td>24</td>\n",
       "    </tr>\n",
       "    <tr>\n",
       "      <th>2</th>\n",
       "      <td>Acura MDX</td>\n",
       "      <td>SUV</td>\n",
       "      <td>36945</td>\n",
       "      <td>33337</td>\n",
       "      <td>265</td>\n",
       "      <td>17</td>\n",
       "      <td>23</td>\n",
       "    </tr>\n",
       "    <tr>\n",
       "      <th>3</th>\n",
       "      <td>Acura NSX coupe 2dr manual S</td>\n",
       "      <td>Sports Car</td>\n",
       "      <td>89765</td>\n",
       "      <td>79978</td>\n",
       "      <td>290</td>\n",
       "      <td>17</td>\n",
       "      <td>24</td>\n",
       "    </tr>\n",
       "    <tr>\n",
       "      <th>4</th>\n",
       "      <td>Acura RSX Type S 2dr</td>\n",
       "      <td>Sedan</td>\n",
       "      <td>23820</td>\n",
       "      <td>21761</td>\n",
       "      <td>200</td>\n",
       "      <td>24</td>\n",
       "      <td>31</td>\n",
       "    </tr>\n",
       "  </tbody>\n",
       "</table>\n",
       "</div>"
      ],
      "text/plain": [
       "                            Name        Type  Retail Price  Dealer Cost  \\\n",
       "0               Acura 3.5 RL 4dr       Sedan         43755        39014   \n",
       "1  Acura 3.5 RL w/Navigation 4dr       Sedan         46100        41100   \n",
       "2                      Acura MDX         SUV         36945        33337   \n",
       "3   Acura NSX coupe 2dr manual S  Sports Car         89765        79978   \n",
       "4           Acura RSX Type S 2dr       Sedan         23820        21761   \n",
       "\n",
       "   Horsepower(HP)  City Miles Per Gallon  Highway Miles Per Gallon  \n",
       "0             225                     18                        24  \n",
       "1             225                     18                        24  \n",
       "2             265                     17                        23  \n",
       "3             290                     17                        24  \n",
       "4             200                     24                        31  "
      ]
     },
     "execution_count": 3,
     "metadata": {},
     "output_type": "execute_result"
    }
   ],
   "source": [
    "df = df.drop(['AWD','RWD','Engine Size (l)', 'Cyl', 'Weight','Wheel Base','Len','Width'], axis=1)\n",
    "df.head()"
   ]
  },
  {
   "cell_type": "code",
   "execution_count": 4,
   "id": "57159ba9",
   "metadata": {},
   "outputs": [
    {
     "data": {
      "text/plain": [
       "0      False\n",
       "1      False\n",
       "2      False\n",
       "3      False\n",
       "4      False\n",
       "       ...  \n",
       "382    False\n",
       "383    False\n",
       "384    False\n",
       "385    False\n",
       "386    False\n",
       "Length: 387, dtype: bool"
      ]
     },
     "execution_count": 4,
     "metadata": {},
     "output_type": "execute_result"
    }
   ],
   "source": [
    "df.duplicated()"
   ]
  },
  {
   "cell_type": "code",
   "execution_count": 5,
   "id": "7b2cba11",
   "metadata": {},
   "outputs": [
    {
     "name": "stdout",
     "output_type": "stream",
     "text": [
      "Name                        0\n",
      "Type                        0\n",
      "Retail Price                0\n",
      "Dealer Cost                 0\n",
      "Horsepower(HP)              0\n",
      "City Miles Per Gallon       0\n",
      "Highway Miles Per Gallon    0\n",
      "dtype: int64\n"
     ]
    }
   ],
   "source": [
    "print(df.isnull().sum())"
   ]
  },
  {
   "cell_type": "code",
   "execution_count": 8,
   "id": "54db3e7c",
   "metadata": {},
   "outputs": [
    {
     "data": {
      "text/plain": [
       "<Axes: >"
      ]
     },
     "execution_count": 8,
     "metadata": {},
     "output_type": "execute_result"
    },
    {
     "data": {
      "image/png": "[encoded data removed]",
      "text/plain": [
       "<Figure size 1000x1000 with 2 Axes>"
      ]
     },
     "metadata": {},
     "output_type": "display_data"
    }
   ],
   "source": [
    "\n",
    "plt.figure(figsize=(10,10))\n",
    "plt.style.use(\"seaborn\")\n",
    "c= df.corr()\n",
    "sns.heatmap(c,cmap='PiYG',annot=True)"
   ]
  },
  {
   "cell_type": "code",
   "execution_count": null,
   "id": "647846d8",
   "metadata": {},
   "outputs": [],
   "source": []
  }
 ],
 "metadata": {
  "kernelspec": {
   "display_name": "Python 3 (ipykernel)",
   "language": "python",
   "name": "python3"
  },
  "language_info": {
   "codemirror_mode": {
    "name": "ipython",
    "version": 3
   },
   "file_extension": ".py",
   "mimetype": "text/x-python",
   "name": "python",
   "nbconvert_exporter": "python",
   "pygments_lexer": "ipython3",
   "version": "3.10.10"
  }
 },
 "nbformat": 4,
 "nbformat_minor": 5
}
